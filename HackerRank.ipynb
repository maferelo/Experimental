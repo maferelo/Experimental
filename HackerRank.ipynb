{
 "cells": [
  {
   "cell_type": "code",
   "execution_count": null,
   "metadata": {},
   "outputs": [],
   "source": [
    "from collections import Counter\n",
    "\n",
    "if __name__ == '__main__':\n",
    "    n = int(input())\n",
    "    counter = Counter([input() for i in range(n)])\n",
    "    print(len(counter))\n",
    "    print(\" \".join(map(str, counter.values())))"
   ]
  }
 ],
 "metadata": {
  "language_info": {
   "name": "python"
  }
 },
 "nbformat": 4,
 "nbformat_minor": 2
}
