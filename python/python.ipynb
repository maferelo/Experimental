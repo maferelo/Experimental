{
 "cells": [
  {
   "cell_type": "markdown",
   "metadata": {},
   "source": [
    "# Python"
   ]
  },
  {
   "cell_type": "markdown",
   "metadata": {},
   "source": [
    "## Hacker Rank Helper\n",
    "\n",
    "\n",
    "```python\n",
    "if __name__ == '__main__':\n",
    "    i = input()\n",
    "```"
   ]
  },
  {
   "cell_type": "markdown",
   "metadata": {},
   "source": [
    "## Unpacking"
   ]
  },
  {
   "cell_type": "code",
   "execution_count": 5,
   "metadata": {},
   "outputs": [
    {
     "name": "stdout",
     "output_type": "stream",
     "text": [
      "3 4\n",
      "[5, 6] 7\n"
     ]
    }
   ],
   "source": [
    "p = (3, 4)\n",
    "x, y = p\n",
    "\n",
    "print(x, y)\n",
    "\n",
    "d = (5, 6, 7)\n",
    "*a, b = d\n",
    "\n",
    "print(a, b)"
   ]
  },
  {
   "cell_type": "markdown",
   "metadata": {},
   "source": []
  },
  {
   "cell_type": "code",
   "execution_count": 9,
   "metadata": {},
   "outputs": [
    {
     "name": "stdout",
     "output_type": "stream",
     "text": [
      "{'a': 0, 'b': 1, 'c': 2}\n",
      "foo 1\n",
      "bar 2\n",
      "spam 3\n"
     ]
    }
   ],
   "source": [
    "from collections import OrderedDict\n",
    "\n",
    "print(dict(zip('abc', range(3))))\n",
    "\n",
    "d = OrderedDict()\n",
    "d['foo'] = 1\n",
    "d['bar'] = 2\n",
    "d['spam'] = 3\n",
    "\n",
    "for key in d:\n",
    "    print(key, d[key])"
   ]
  },
  {
   "cell_type": "markdown",
   "metadata": {},
   "source": [
    "88. Merge Sorted Array\n",
    "\n",
    "You are given two integer arrays nums1 and nums2, sorted in non-decreasing order, and two integers m and n, representing the number of elements in nums1 and nums2 respectively.\n",
    "\n",
    "Merge nums1 and nums2 into a single array sorted in non-decreasing order.\n",
    "\n",
    "The final sorted array should not be returned by the function, but instead be stored inside the array nums1. To accommodate this, nums1 has a length of m + n, where the first m elements denote the elements that should be merged, and the last n elements are set to 0 and should be ignored. nums2 has a length of n."
   ]
  },
  {
   "cell_type": "code",
   "execution_count": 1,
   "metadata": {},
   "outputs": [
    {
     "name": "stdout",
     "output_type": "stream",
     "text": [
      "[1, 2, 2, 3, 5, 6]\n"
     ]
    }
   ],
   "source": [
    "class Solution(object):\n",
    "    def merge(self, nums1, m, nums2, n):\n",
    "      for j in range(n):\n",
    "          nums1[m+j] = nums2[j]\n",
    "      nums1.sort()\n",
    "\n",
    "nums1 = [1,2,3,0,0,0]\n",
    "\n",
    "nums2 = [2,5,6]\n",
    "\n",
    "m = 3\n",
    "\n",
    "n = 3\n",
    "\n",
    "s = Solution()\n",
    "\n",
    "s.merge(nums1, m, nums2, n)\n",
    "\n",
    "print(nums1)"
   ]
  },
  {
   "cell_type": "markdown",
   "metadata": {},
   "source": [
    "## Data Structures"
   ]
  },
  {
   "cell_type": "markdown",
   "metadata": {},
   "source": [
    "All the python goodies, also called the python data model or the magic methods or dunder methods like del and len and so on."
   ]
  },
  {
   "cell_type": "code",
   "execution_count": 3,
   "metadata": {},
   "outputs": [
    {
     "name": "stdout",
     "output_type": "stream",
     "text": [
      "3\n",
      "olleh\n",
      "10\n"
     ]
    }
   ],
   "source": [
    "print(len(\"123\"))\n",
    "\n",
    "class CustomString(str):\n",
    "    def __str__(self):\n",
    "        return self[::-1]\n",
    "    def __len__(self):\n",
    "        return 10\n",
    "    \n",
    "s = CustomString(\"hello\")\n",
    "print(s)\n",
    "print(len(s))"
   ]
  },
  {
   "cell_type": "markdown",
   "metadata": {},
   "source": [
    "This are some of the python special methods that are used to emulate the behavior of built-in types.\n",
    "\n",
    "__len__, __getitem__, __setitem__, __delitem__, __iter__, __contains__, __add__, __mul__, __eq__, __lt__, __le__, __gt__, __ge__, __ne__, __hash__, __str__, __repr__, __call__, __enter__, __exit__, __iter__, __next__, __reversed__, __copy__, __deepcopy__, __reduce__, __reduce_ex__, __getstate__, __setstate__, __getattr__, __setattr__, __delattr__, __dir__, __class__, __doc__, __module__, __name__, __qualname__, __annotations__, __defaults__, __code__, __globals__, __dict__, __closure__, __kwdefaults__, __annotations__, etc.\n"
   ]
  },
  {
   "cell_type": "markdown",
   "metadata": {},
   "source": [
    "#### set vs. frozenset"
   ]
  },
  {
   "cell_type": "code",
   "execution_count": 4,
   "metadata": {},
   "outputs": [
    {
     "ename": "AttributeError",
     "evalue": "'frozenset' object has no attribute 'add'",
     "output_type": "error",
     "traceback": [
      "\u001b[0;31m---------------------------------------------------------------------------\u001b[0m",
      "\u001b[0;31mAttributeError\u001b[0m                            Traceback (most recent call last)",
      "Cell \u001b[0;32mIn[4], line 3\u001b[0m\n\u001b[1;32m      1\u001b[0m set_ \u001b[38;5;241m=\u001b[39m \u001b[38;5;28mset\u001b[39m([\u001b[38;5;241m1\u001b[39m, \u001b[38;5;241m2\u001b[39m, \u001b[38;5;241m3\u001b[39m]) \u001b[38;5;66;03m# mutable\u001b[39;00m\n\u001b[1;32m      2\u001b[0m frozenset_ \u001b[38;5;241m=\u001b[39m \u001b[38;5;28mfrozenset\u001b[39m(set_) \u001b[38;5;66;03m# immutable\u001b[39;00m\n\u001b[0;32m----> 3\u001b[0m \u001b[43mfrozenset_\u001b[49m\u001b[38;5;241;43m.\u001b[39;49m\u001b[43madd\u001b[49m(\u001b[38;5;241m4\u001b[39m) \u001b[38;5;66;03m# AttributeError: 'frozenset' object has no attribute 'add'\u001b[39;00m\n",
      "\u001b[0;31mAttributeError\u001b[0m: 'frozenset' object has no attribute 'add'"
     ]
    }
   ],
   "source": [
    "set_ = set([1, 2, 3]) # mutable\n",
    "frozenset_ = frozenset(set_) # immutable\n",
    "frozenset_.add(4) # AttributeError: 'frozenset' object has no attribute 'add'"
   ]
  },
  {
   "cell_type": "markdown",
   "metadata": {},
   "source": [
    "### Inmutable sequences\n",
    "\n",
    "- str\n",
    "- bytes\n",
    "- tuple\n",
    "\n",
    "Attention: If a tuple contains a reference to a mutable object, their value can still be changed. In other words, the mutability of a tuple is not the same as the mutability of its elements.\n",
    "\n",
    "Unfortunately, Python has no foolproof immutable container sequence type: even “immutable” tuples can have their values changed when they contain mutable items like lists or user-defined objects."
   ]
  },
  {
   "cell_type": "markdown",
   "metadata": {},
   "source": [
    "### List Comprehensions"
   ]
  },
  {
   "cell_type": "code",
   "execution_count": 7,
   "metadata": {},
   "outputs": [
    {
     "name": "stdout",
     "output_type": "stream",
     "text": [
      "[('red', 'S'), ('red', 'L'), ('blue', 'S'), ('blue', 'L')]\n",
      "('red', 'S')\n",
      "('red', 'L')\n",
      "('blue', 'S')\n",
      "('blue', 'L')\n"
     ]
    },
    {
     "data": {
      "text/plain": [
       "(97, 98, 99)"
      ]
     },
     "execution_count": 7,
     "metadata": {},
     "output_type": "execute_result"
    }
   ],
   "source": [
    "colors = ['red', 'blue']\n",
    "sizes = ['S', 'L']\n",
    "tshirt = [(color, size) for color in colors for size in sizes]\n",
    "print(tshirt)\n",
    "\n",
    "for color in colors:\n",
    "    for size in sizes:\n",
    "        print((color, size))\n",
    "        \n",
    "        \n",
    "# generator\n",
    "symbols = 'abc'\n",
    "tuple(ord(symbol) for symbol in symbols)"
   ]
  },
  {
   "cell_type": "markdown",
   "metadata": {},
   "source": [
    "### Unpacking"
   ]
  },
  {
   "cell_type": "code",
   "execution_count": 11,
   "metadata": {},
   "outputs": [
    {
     "name": "stdout",
     "output_type": "stream",
     "text": [
      "[2, 3, 4, 5]\n"
     ]
    },
    {
     "data": {
      "text/plain": [
       "[0, 1, 2, 3, 4, 0]"
      ]
     },
     "execution_count": 11,
     "metadata": {},
     "output_type": "execute_result"
    }
   ],
   "source": [
    "_, *rest = [1, 2, 3, 4, 5]\n",
    "print(rest)\n",
    "\n",
    "[*range(5), 0]"
   ]
  },
  {
   "cell_type": "markdown",
   "metadata": {},
   "source": [
    "### Switch === match + Structural Pattern Matching"
   ]
  },
  {
   "cell_type": "markdown",
   "metadata": {},
   "source": [
    "```python\n",
    "message = \"this\"\n",
    "match message:\n",
    "    case \"this\":\n",
    "        print(\"this\")\n",
    "    case \"that\":\n",
    "        print(\"that\")\n",
    "    case _:\n",
    "        print(\"default\")\n",
    "\n",
    "def execute_command(command_arg) -> None:\n",
    "    match command_arg.split():\n",
    "        case [\"load\", filename]:\n",
    "            print(f\"Loading file: {filename}.\")\n",
    "        case [\"save\", filename]:\n",
    "            print(f\"Saving to file: {filename}.\")\n",
    "        case [\"quit\" | \"exit\" | \"bye\"]:\n",
    "            print(\"Quitting the program.\")\n",
    "            quit()\n",
    "        case _:\n",
    "            print(f\"Unknown command: {command_arg!r}.\")\n",
    "```"
   ]
  },
  {
   "cell_type": "markdown",
   "metadata": {},
   "source": [
    "### Slicing"
   ]
  },
  {
   "cell_type": "code",
   "execution_count": 15,
   "metadata": {},
   "outputs": [
    {
     "data": {
      "text/plain": [
       "[2, 4, 6, 8, 10]"
      ]
     },
     "execution_count": 15,
     "metadata": {},
     "output_type": "execute_result"
    }
   ],
   "source": [
    "# [start:stop:step]\n",
    "[1, 2, 3, 4, 5, 6, 7, 8, 9, 10][1::2]"
   ]
  },
  {
   "cell_type": "markdown",
   "metadata": {},
   "source": [
    "### Array vs. List\n",
    "\n",
    "- Large ammount of data\n",
    "- Homogeneous data\n",
    "- Numeric data\n",
    "\n",
    "array.pop() is quite slow, because it needs to move all the elements after the removed element. Use collections.deque instead."
   ]
  },
  {
   "cell_type": "markdown",
   "metadata": {},
   "source": [
    "### Memory Views\n",
    "\n",
    "Used for sharing memory between data structures. For advanced manipulation of memory buffers."
   ]
  },
  {
   "cell_type": "markdown",
   "metadata": {},
   "source": []
  }
 ],
 "metadata": {
  "kernelspec": {
   "display_name": "Python 3",
   "language": "python",
   "name": "python3"
  },
  "language_info": {
   "codemirror_mode": {
    "name": "ipython",
    "version": 3
   },
   "file_extension": ".py",
   "mimetype": "text/x-python",
   "name": "python",
   "nbconvert_exporter": "python",
   "pygments_lexer": "ipython3",
   "version": "3.9.6"
  }
 },
 "nbformat": 4,
 "nbformat_minor": 2
}
