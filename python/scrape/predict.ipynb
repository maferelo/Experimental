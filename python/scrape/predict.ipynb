{
 "cells": [
  {
   "cell_type": "code",
   "execution_count": null,
   "metadata": {},
   "outputs": [],
   "source": [
    "import pandas as pd\n",
    "import world_bank_data as wb\n",
    "pd.set_option('display.max_rows', 6)\n",
    "# https://pypi.org/project/world-bank-data/"
   ]
  },
  {
   "cell_type": "code",
   "execution_count": null,
   "metadata": {},
   "outputs": [],
   "source": [
    "wb.get_topics()"
   ]
  },
  {
   "cell_type": "code",
   "execution_count": null,
   "metadata": {},
   "outputs": [],
   "source": [
    "wb.get_sources()"
   ]
  },
  {
   "cell_type": "code",
   "execution_count": null,
   "metadata": {},
   "outputs": [],
   "source": [
    "wb.get_countries()"
   ]
  },
  {
   "cell_type": "code",
   "execution_count": null,
   "metadata": {},
   "outputs": [],
   "source": [
    "wb.get_indicators(topic=3, source=2)  # topic and source id are from get_topics/get_sources"
   ]
  },
  {
   "cell_type": "code",
   "execution_count": null,
   "metadata": {},
   "outputs": [],
   "source": [
    "wb.get_series('SP.POP.TOTL', mrv=1)"
   ]
  },
  {
   "cell_type": "code",
   "execution_count": null,
   "metadata": {},
   "outputs": [],
   "source": [
    "wb.get_series('SP.POP.TOTL', date='2016', id_or_value='id', simplify_index=True)"
   ]
  },
  {
   "cell_type": "code",
   "execution_count": null,
   "metadata": {},
   "outputs": [],
   "source": [
    "import yfinance as yf\n",
    "\n",
    "msft = yf.Ticker(\"MSFT\")\n",
    "\n",
    "# get all stock info\n",
    "msft.info\n",
    "\n",
    "# get historical market data\n",
    "hist = msft.history(period=\"1mo\")\n",
    "\n",
    "# show meta information about the history (requires history() to be called first)\n",
    "msft.history_metadata\n",
    "\n",
    "# show actions (dividends, splits, capital gains)\n",
    "msft.actions\n",
    "msft.dividends\n",
    "msft.splits\n",
    "msft.capital_gains  # only for mutual funds & etfs\n",
    "\n",
    "# show share count\n",
    "msft.get_shares_full(start=\"2022-01-01\", end=None)\n",
    "\n",
    "# show financials:\n",
    "msft.calendar\n",
    "msft.sec_filings\n",
    "# - income statement\n",
    "msft.income_stmt\n",
    "msft.quarterly_income_stmt\n",
    "# - balance sheet\n",
    "msft.balance_sheet\n",
    "msft.quarterly_balance_sheet\n",
    "# - cash flow statement\n",
    "msft.cashflow\n",
    "msft.quarterly_cashflow\n",
    "# see `Ticker.get_income_stmt()` for more options\n",
    "\n",
    "# show holders\n",
    "msft.major_holders\n",
    "msft.institutional_holders\n",
    "msft.mutualfund_holders\n",
    "msft.insider_transactions\n",
    "msft.insider_purchases\n",
    "msft.insider_roster_holders\n",
    "\n",
    "msft.sustainability\n",
    "\n",
    "# show recommendations\n",
    "msft.recommendations\n",
    "msft.recommendations_summary\n",
    "msft.upgrades_downgrades\n",
    "\n",
    "# show analysts data\n",
    "msft.analyst_price_targets\n",
    "msft.earnings_estimate\n",
    "msft.revenue_estimate\n",
    "msft.earnings_history\n",
    "msft.eps_trend\n",
    "msft.eps_revisions\n",
    "msft.growth_estimates\n",
    "\n",
    "# Show future and historic earnings dates, returns at most next 4 quarters and last 8 quarters by default.\n",
    "# Note: If more are needed use msft.get_earnings_dates(limit=XX) with increased limit argument.\n",
    "msft.earnings_dates\n",
    "\n",
    "# show ISIN code - *experimental*\n",
    "# ISIN = International Securities Identification Number\n",
    "msft.isin\n",
    "\n",
    "# show options expirations\n",
    "msft.options\n",
    "\n",
    "# show news\n",
    "msft.news\n",
    "\n",
    "# get option chain for specific expiration\n",
    "opt = msft.option_chain('2024-11-15')\n",
    "# data available via: opt.calls, opt.puts"
   ]
  },
  {
   "cell_type": "code",
   "execution_count": null,
   "metadata": {},
   "outputs": [],
   "source": [
    "import yfinance as yf\n",
    "import pandas as pd\n",
    "import numpy as np\n",
    "from sklearn.preprocessing import MinMaxScaler\n",
    "from sklearn.metrics import mean_squared_error\n",
    "from tensorflow.keras.models import Sequential\n",
    "from tensorflow.keras.layers import LSTM, Dense"
   ]
  },
  {
   "cell_type": "code",
   "execution_count": null,
   "metadata": {},
   "outputs": [],
   "source": [
    "def get_stock_data(symbol, start_date, end_date):\n",
    "    stock_data = yf.download(symbol, start=start_date, end=end_date)\n",
    "    return stock_data\n",
    "# Specify stock symbol and date range\n",
    "stock_symbol = 'AAPL'\n",
    "# Fetch historical stock data\n",
    "stock_data = yf.download(stock_symbol,  period=\"max\")"
   ]
  },
  {
   "cell_type": "code",
   "execution_count": null,
   "metadata": {},
   "outputs": [],
   "source": [
    "# Code snippet for data preprocessing\n",
    "closing_prices = stock_data['Close'].values.reshape(-1, 1)\n",
    "scaler = MinMaxScaler(feature_range=(0, 1))\n",
    "closing_prices_scaled = scaler.fit_transform(closing_prices)"
   ]
  },
  {
   "cell_type": "code",
   "execution_count": null,
   "metadata": {},
   "outputs": [],
   "source": [
    "# Define the prepare_data function\n",
    "def prepare_data(data, n_steps):\n",
    "    x, y = [], []\n",
    "    for i in range(len(data) - n_steps):\n",
    "        x.append(data[i:(i + n_steps), 0])\n",
    "        y.append(data[i + n_steps, 0])\n",
    "    return np.array(x), np.array(y)\n",
    "\n",
    "def create_lstm_model(input_shape):\n",
    "    \"\"\"\n",
    "    Create and compile an LSTM model for time series prediction.\n",
    "\n",
    "    Parameters:\n",
    "    - input_shape (tuple): Shape of the input data in the form (time_steps, features).\n",
    "\n",
    "    Returns:\n",
    "    - model (Sequential): Compiled LSTM model.\n",
    "    \"\"\"\n",
    "    model = Sequential()\n",
    "    # Add the first LSTM layer with 50 units and return sequences for the next layer\n",
    "    model.add(LSTM(units=50, return_sequences=True, input_shape=input_shape))\n",
    "    # Add the second LSTM layer with 50 units\n",
    "    model.add(LSTM(units=50))\n",
    "    # Add a Dense layer with 1 unit for regression\n",
    "    model.add(Dense(units=1))\n",
    "    \n",
    "    # Compile the model using the Adam optimizer and Mean Squared Error loss\n",
    "    model.compile(optimizer='adam', loss='mean_squared_error')\n",
    "    \n",
    "    return model\n",
    "\n",
    "\n",
    "# Code snippet for creating and training the LSTM model\n",
    "n_steps = 60\n",
    "\n",
    "# Prepare the training data using the defined function\n",
    "x_train, y_train = prepare_data(closing_prices_scaled, n_steps)\n",
    "\n",
    "# Reshape the input data to fit the LSTM model\n",
    "x_train = np.reshape(x_train, (x_train.shape[0], x_train.shape[1], 1))\n",
    "\n",
    "# Create an instance of the LSTM model\n",
    "model = create_lstm_model((x_train.shape[1], 1))\n",
    "\n",
    "# Train the model on the training data\n",
    "model.fit(x_train, y_train, epochs=10, batch_size=32)"
   ]
  },
  {
   "cell_type": "code",
   "execution_count": null,
   "metadata": {},
   "outputs": [],
   "source": [
    "# Code snippet for making predictions and evaluation\n",
    "train_predictions = model.predict(x_train)\n",
    "train_predictions = scaler.inverse_transform(train_predictions)\n",
    "mse = mean_squared_error(closing_prices[n_steps:], train_predictions)\n",
    "print(f'Mean Squared Error on Training Data: {mse}')"
   ]
  },
  {
   "cell_type": "code",
   "execution_count": null,
   "metadata": {},
   "outputs": [],
   "source": [
    "# Code snippet for plotting results\n",
    "import matplotlib.pyplot as plt\n",
    "plt.figure(figsize=(12, 6))\n",
    "plt.plot(stock_data.index[n_steps:], closing_prices[n_steps:], label='Actual Prices', color='blue')\n",
    "plt.plot(stock_data.index[n_steps:], train_predictions, label='Predicted Prices', color='red')\n",
    "plt.title(f'{stock_symbol} Stock Price Prediction using LSTM')\n",
    "plt.xlabel('Date')\n",
    "plt.ylabel('Stock Price (USD)')\n",
    "plt.legend()\n",
    "plt.show()"
   ]
  }
 ],
 "metadata": {
  "kernelspec": {
   "display_name": "venv",
   "language": "python",
   "name": "python3"
  },
  "language_info": {
   "codemirror_mode": {
    "name": "ipython",
    "version": 3
   },
   "file_extension": ".py",
   "mimetype": "text/x-python",
   "name": "python",
   "nbconvert_exporter": "python",
   "pygments_lexer": "ipython3",
   "version": "3.12.7"
  }
 },
 "nbformat": 4,
 "nbformat_minor": 2
}
