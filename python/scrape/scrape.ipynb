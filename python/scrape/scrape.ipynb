{
 "cells": [
  {
   "cell_type": "code",
   "execution_count": 3,
   "metadata": {},
   "outputs": [],
   "source": [
    "import feedparser"
   ]
  },
  {
   "cell_type": "code",
   "execution_count": 30,
   "metadata": {},
   "outputs": [],
   "source": [
    "d = feedparser.parse('https://dynomight.net/feed.xml')"
   ]
  },
  {
   "cell_type": "code",
   "execution_count": 31,
   "metadata": {},
   "outputs": [
    {
     "data": {
      "text/plain": [
       "'DYNOMIGHT'"
      ]
     },
     "execution_count": 31,
     "metadata": {},
     "output_type": "execute_result"
    }
   ],
   "source": [
    "d['feed']['title']\n",
    "\n",
    " entries = [entry[\"id\"] for entry in feed for feed in [1,2,3]] "
   ]
  },
  {
   "cell_type": "code",
   "execution_count": 32,
   "metadata": {},
   "outputs": [
    {
     "data": {
      "text/plain": [
       "'Please show lots of digits'"
      ]
     },
     "execution_count": 32,
     "metadata": {},
     "output_type": "execute_result"
    }
   ],
   "source": [
    "d.entries[0].title"
   ]
  },
  {
   "cell_type": "code",
   "execution_count": 33,
   "metadata": {},
   "outputs": [
    {
     "data": {
      "text/plain": [
       "'https://dynomight.net/digits/'"
      ]
     },
     "execution_count": 33,
     "metadata": {},
     "output_type": "execute_result"
    }
   ],
   "source": [
    "d.entries[0].link"
   ]
  },
  {
   "cell_type": "code",
   "execution_count": 34,
   "metadata": {},
   "outputs": [
    {
     "data": {
      "text/plain": [
       "dict_keys(['title', 'title_detail', 'links', 'link', 'published', 'published_parsed', 'updated', 'updated_parsed', 'id', 'guidislink', 'content', 'summary', 'authors', 'author_detail', 'author', 'tags', 'summary_detail', 'media_thumbnail', 'href', 'media_content'])"
      ]
     },
     "execution_count": 34,
     "metadata": {},
     "output_type": "execute_result"
    }
   ],
   "source": [
    "d.entries[0].keys()"
   ]
  },
  {
   "cell_type": "code",
   "execution_count": 36,
   "metadata": {},
   "outputs": [
    {
     "data": {
      "text/plain": [
       "{'https://dynomight.net/advice',\n",
       " 'https://dynomight.net/arguments-2',\n",
       " 'https://dynomight.net/arithmetic',\n",
       " 'https://dynomight.net/audiobooks',\n",
       " 'https://dynomight.net/automated',\n",
       " 'https://dynomight.net/axes',\n",
       " 'https://dynomight.net/bourdieu',\n",
       " 'https://dynomight.net/breastfeeding',\n",
       " 'https://dynomight.net/buy-purifiers',\n",
       " 'https://dynomight.net/centuries',\n",
       " 'https://dynomight.net/class',\n",
       " 'https://dynomight.net/consciousness',\n",
       " 'https://dynomight.net/data-wall',\n",
       " 'https://dynomight.net/datasets',\n",
       " 'https://dynomight.net/digits',\n",
       " 'https://dynomight.net/espionage',\n",
       " 'https://dynomight.net/fahren-height',\n",
       " 'https://dynomight.net/fancy-math',\n",
       " 'https://dynomight.net/homeless',\n",
       " 'https://dynomight.net/olympics',\n",
       " 'https://dynomight.net/seed-oils',\n",
       " 'https://dynomight.net/shorts-4',\n",
       " 'https://dynomight.net/survey',\n",
       " 'https://dynomight.net/survey-results',\n",
       " 'https://dynomight.net/taste-games',\n",
       " 'https://dynomight.net/thanks-3',\n",
       " 'https://dynomight.net/things',\n",
       " 'https://dynomight.net/travel',\n",
       " 'https://dynomight.net/tunnel-man',\n",
       " 'https://dynomight.net/typing'}"
      ]
     },
     "execution_count": 36,
     "metadata": {},
     "output_type": "execute_result"
    }
   ],
   "source": [
    "entries = {entrie[\"id\"] for entrie in d.entries}\n",
    "entries"
   ]
  },
  {
   "cell_type": "code",
   "execution_count": 25,
   "metadata": {},
   "outputs": [],
   "source": [
    "import pickle\n",
    "\n",
    "with open(\"rss_last_entries\", 'wb') as f:\n",
    "    pickle.dump(entries, f)"
   ]
  },
  {
   "cell_type": "code",
   "execution_count": 26,
   "metadata": {},
   "outputs": [
    {
     "data": {
      "text/plain": [
       "{'https://www.nature.com/articles/s41563-024-02012-w',\n",
       " 'https://www.nature.com/articles/s41563-024-02015-7',\n",
       " 'https://www.nature.com/articles/s41563-024-02022-8',\n",
       " 'https://www.nature.com/articles/s41563-024-02023-7',\n",
       " 'https://www.nature.com/articles/s41563-024-02025-5',\n",
       " 'https://www.nature.com/articles/s41563-024-02028-2',\n",
       " 'https://www.nature.com/articles/s41563-024-02034-4',\n",
       " 'https://www.nature.com/articles/s41563-024-02035-3'}"
      ]
     },
     "execution_count": 26,
     "metadata": {},
     "output_type": "execute_result"
    }
   ],
   "source": [
    "with open(\"rss_last_entries\", 'rb') as f:\n",
    "    my_list = pickle.load(f)\n",
    "\n",
    "my_list"
   ]
  },
  {
   "cell_type": "code",
   "execution_count": 29,
   "metadata": {},
   "outputs": [
    {
     "data": {
      "text/plain": [
       "False"
      ]
     },
     "execution_count": 29,
     "metadata": {},
     "output_type": "execute_result"
    }
   ],
   "source": [
    "entries.difference(my_list) == False"
   ]
  }
 ],
 "metadata": {
  "kernelspec": {
   "display_name": "venv",
   "language": "python",
   "name": "python3"
  },
  "language_info": {
   "codemirror_mode": {
    "name": "ipython",
    "version": 3
   },
   "file_extension": ".py",
   "mimetype": "text/x-python",
   "name": "python",
   "nbconvert_exporter": "python",
   "pygments_lexer": "ipython3",
   "version": "3.12.7"
  }
 },
 "nbformat": 4,
 "nbformat_minor": 2
}
