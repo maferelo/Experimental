{
 "cells": [
  {
   "cell_type": "code",
   "execution_count": 9,
   "metadata": {},
   "outputs": [],
   "source": [
    "import time\n",
    "\n",
    "from selenium import webdriver\n",
    "from selenium.webdriver.common.by import By"
   ]
  },
  {
   "cell_type": "code",
   "execution_count": 10,
   "metadata": {},
   "outputs": [],
   "source": [
    "options = webdriver.ChromeOptions()\n",
    "options.add_argument(\"--headless=new\")"
   ]
  },
  {
   "cell_type": "code",
   "execution_count": 11,
   "metadata": {},
   "outputs": [],
   "source": [
    "service = webdriver.ChromeService(executable_path=\"/home/dharma/develop/experimental/python/scrape/chromedriver\")"
   ]
  },
  {
   "cell_type": "code",
   "execution_count": 12,
   "metadata": {},
   "outputs": [],
   "source": [
    "driver = webdriver.Chrome(options=options, service=service)"
   ]
  },
  {
   "cell_type": "code",
   "execution_count": 13,
   "metadata": {},
   "outputs": [
    {
     "data": {
      "text/plain": [
       "True"
      ]
     },
     "execution_count": 13,
     "metadata": {},
     "output_type": "execute_result"
    }
   ],
   "source": [
    "driver.get(\"https://best.aliexpress.com/?spm=a2g0o.account_find_password.logo.1.1fda75de7kRPXd&gatewayAdapt=glo2esp&browser_redirect=true\")\n",
    "\n",
    "driver.save_screenshot(\"screenshot.png\")"
   ]
  },
  {
   "cell_type": "code",
   "execution_count": 14,
   "metadata": {},
   "outputs": [
    {
     "data": {
      "text/plain": [
       "True"
      ]
     },
     "execution_count": 14,
     "metadata": {},
     "output_type": "execute_result"
    }
   ],
   "source": [
    "driver.find_element(By.XPATH, \"//div[contains(@class, 'my-account--menuItem')]\").click()\n",
    "\n",
    "driver.save_screenshot(\"screenshot.png\")"
   ]
  },
  {
   "cell_type": "code",
   "execution_count": 15,
   "metadata": {},
   "outputs": [
    {
     "data": {
      "text/plain": [
       "True"
      ]
     },
     "execution_count": 15,
     "metadata": {},
     "output_type": "execute_result"
    }
   ],
   "source": [
    "driver.find_element(By.XPATH, \"//button[contains(@class, 'my-account--signin')]\").click()\n",
    "\n",
    "driver.save_screenshot(\"screenshot.png\")"
   ]
  },
  {
   "cell_type": "code",
   "execution_count": 16,
   "metadata": {},
   "outputs": [
    {
     "data": {
      "text/plain": [
       "True"
      ]
     },
     "execution_count": 16,
     "metadata": {},
     "output_type": "execute_result"
    }
   ],
   "source": [
    "time.sleep(5)\n",
    "\n",
    "driver.find_element(By.XPATH, \"//input[contains(@class, 'cosmos-input')]\").send_keys(\"difeliprpo@hotmail.com\" )\n",
    "\n",
    "driver.save_screenshot(\"screenshot.png\")"
   ]
  },
  {
   "cell_type": "code",
   "execution_count": 17,
   "metadata": {},
   "outputs": [
    {
     "ename": "ElementClickInterceptedException",
     "evalue": "Message: element click intercepted: Element <button type=\"button\" class=\"cosmos-btn cosmos-btn-primary cosmos-btn-large cosmos-btn-block\" style=\"color: rgb(255, 255, 255); background: rgb(211, 3, 28); font-size: 20px; font-family: &quot;TT Norms Pro&quot;; font-weight: 700; margin-top: 20px;\">...</button> is not clickable at point (390, 272). Other element would receive the click: <div>...</div>\n  (Session info: chrome=130.0.6723.91)\nStacktrace:\n#0 0x55e9b777a51a <unknown>\n#1 0x55e9b72b2b11 <unknown>\n#2 0x55e9b7307d5e <unknown>\n#3 0x55e9b7305c65 <unknown>\n#4 0x55e9b73032b8 <unknown>\n#5 0x55e9b7302135 <unknown>\n#6 0x55e9b72f509b <unknown>\n#7 0x55e9b7324ee2 <unknown>\n#8 0x55e9b72f4a78 <unknown>\n#9 0x55e9b73250ae <unknown>\n#10 0x55e9b7343730 <unknown>\n#11 0x55e9b7324c83 <unknown>\n#12 0x55e9b72f2bee <unknown>\n#13 0x55e9b72f3d1e <unknown>\n#14 0x55e9b7748b9f <unknown>\n#15 0x55e9b774dc62 <unknown>\n#16 0x55e9b7736687 <unknown>\n#17 0x55e9b774e3e1 <unknown>\n#18 0x55e9b771d31e <unknown>\n#19 0x55e9b7769b08 <unknown>\n#20 0x55e9b7769cff <unknown>\n#21 0x55e9b7779088 <unknown>\n#22 0x7fb21973aa94 <unknown>\n#23 0x7fb2197c7c3c <unknown>\n",
     "output_type": "error",
     "traceback": [
      "\u001b[0;31m---------------------------------------------------------------------------\u001b[0m",
      "\u001b[0;31mElementClickInterceptedException\u001b[0m          Traceback (most recent call last)",
      "Cell \u001b[0;32mIn[17], line 1\u001b[0m\n\u001b[0;32m----> 1\u001b[0m \u001b[43mdriver\u001b[49m\u001b[38;5;241;43m.\u001b[39;49m\u001b[43mfind_element\u001b[49m\u001b[43m(\u001b[49m\u001b[43mBy\u001b[49m\u001b[38;5;241;43m.\u001b[39;49m\u001b[43mXPATH\u001b[49m\u001b[43m,\u001b[49m\u001b[43m \u001b[49m\u001b[38;5;124;43m\"\u001b[39;49m\u001b[38;5;124;43m//button[contains(@class, \u001b[39;49m\u001b[38;5;124;43m'\u001b[39;49m\u001b[38;5;124;43mcosmos-btn\u001b[39;49m\u001b[38;5;124;43m'\u001b[39;49m\u001b[38;5;124;43m)]\u001b[39;49m\u001b[38;5;124;43m\"\u001b[39;49m\u001b[43m)\u001b[49m\u001b[38;5;241;43m.\u001b[39;49m\u001b[43mclick\u001b[49m\u001b[43m(\u001b[49m\u001b[43m)\u001b[49m\n\u001b[1;32m      3\u001b[0m driver\u001b[38;5;241m.\u001b[39msave_screenshot(\u001b[38;5;124m\"\u001b[39m\u001b[38;5;124mscreenshot.png\u001b[39m\u001b[38;5;124m\"\u001b[39m)\n",
      "File \u001b[0;32m~/develop/experimental/python/scrape/venv/lib/python3.12/site-packages/selenium/webdriver/remote/webelement.py:94\u001b[0m, in \u001b[0;36mWebElement.click\u001b[0;34m(self)\u001b[0m\n\u001b[1;32m     92\u001b[0m \u001b[38;5;28;01mdef\u001b[39;00m \u001b[38;5;21mclick\u001b[39m(\u001b[38;5;28mself\u001b[39m) \u001b[38;5;241m-\u001b[39m\u001b[38;5;241m>\u001b[39m \u001b[38;5;28;01mNone\u001b[39;00m:\n\u001b[1;32m     93\u001b[0m \u001b[38;5;250m    \u001b[39m\u001b[38;5;124;03m\"\"\"Clicks the element.\"\"\"\u001b[39;00m\n\u001b[0;32m---> 94\u001b[0m     \u001b[38;5;28;43mself\u001b[39;49m\u001b[38;5;241;43m.\u001b[39;49m\u001b[43m_execute\u001b[49m\u001b[43m(\u001b[49m\u001b[43mCommand\u001b[49m\u001b[38;5;241;43m.\u001b[39;49m\u001b[43mCLICK_ELEMENT\u001b[49m\u001b[43m)\u001b[49m\n",
      "File \u001b[0;32m~/develop/experimental/python/scrape/venv/lib/python3.12/site-packages/selenium/webdriver/remote/webelement.py:395\u001b[0m, in \u001b[0;36mWebElement._execute\u001b[0;34m(self, command, params)\u001b[0m\n\u001b[1;32m    393\u001b[0m     params \u001b[38;5;241m=\u001b[39m {}\n\u001b[1;32m    394\u001b[0m params[\u001b[38;5;124m\"\u001b[39m\u001b[38;5;124mid\u001b[39m\u001b[38;5;124m\"\u001b[39m] \u001b[38;5;241m=\u001b[39m \u001b[38;5;28mself\u001b[39m\u001b[38;5;241m.\u001b[39m_id\n\u001b[0;32m--> 395\u001b[0m \u001b[38;5;28;01mreturn\u001b[39;00m \u001b[38;5;28;43mself\u001b[39;49m\u001b[38;5;241;43m.\u001b[39;49m\u001b[43m_parent\u001b[49m\u001b[38;5;241;43m.\u001b[39;49m\u001b[43mexecute\u001b[49m\u001b[43m(\u001b[49m\u001b[43mcommand\u001b[49m\u001b[43m,\u001b[49m\u001b[43m \u001b[49m\u001b[43mparams\u001b[49m\u001b[43m)\u001b[49m\n",
      "File \u001b[0;32m~/develop/experimental/python/scrape/venv/lib/python3.12/site-packages/selenium/webdriver/remote/webdriver.py:380\u001b[0m, in \u001b[0;36mWebDriver.execute\u001b[0;34m(self, driver_command, params)\u001b[0m\n\u001b[1;32m    378\u001b[0m response \u001b[38;5;241m=\u001b[39m \u001b[38;5;28mself\u001b[39m\u001b[38;5;241m.\u001b[39mcommand_executor\u001b[38;5;241m.\u001b[39mexecute(driver_command, params)\n\u001b[1;32m    379\u001b[0m \u001b[38;5;28;01mif\u001b[39;00m response:\n\u001b[0;32m--> 380\u001b[0m     \u001b[38;5;28;43mself\u001b[39;49m\u001b[38;5;241;43m.\u001b[39;49m\u001b[43merror_handler\u001b[49m\u001b[38;5;241;43m.\u001b[39;49m\u001b[43mcheck_response\u001b[49m\u001b[43m(\u001b[49m\u001b[43mresponse\u001b[49m\u001b[43m)\u001b[49m\n\u001b[1;32m    381\u001b[0m     response[\u001b[38;5;124m\"\u001b[39m\u001b[38;5;124mvalue\u001b[39m\u001b[38;5;124m\"\u001b[39m] \u001b[38;5;241m=\u001b[39m \u001b[38;5;28mself\u001b[39m\u001b[38;5;241m.\u001b[39m_unwrap_value(response\u001b[38;5;241m.\u001b[39mget(\u001b[38;5;124m\"\u001b[39m\u001b[38;5;124mvalue\u001b[39m\u001b[38;5;124m\"\u001b[39m, \u001b[38;5;28;01mNone\u001b[39;00m))\n\u001b[1;32m    382\u001b[0m     \u001b[38;5;28;01mreturn\u001b[39;00m response\n",
      "File \u001b[0;32m~/develop/experimental/python/scrape/venv/lib/python3.12/site-packages/selenium/webdriver/remote/errorhandler.py:229\u001b[0m, in \u001b[0;36mErrorHandler.check_response\u001b[0;34m(self, response)\u001b[0m\n\u001b[1;32m    227\u001b[0m         alert_text \u001b[38;5;241m=\u001b[39m value[\u001b[38;5;124m\"\u001b[39m\u001b[38;5;124malert\u001b[39m\u001b[38;5;124m\"\u001b[39m]\u001b[38;5;241m.\u001b[39mget(\u001b[38;5;124m\"\u001b[39m\u001b[38;5;124mtext\u001b[39m\u001b[38;5;124m\"\u001b[39m)\n\u001b[1;32m    228\u001b[0m     \u001b[38;5;28;01mraise\u001b[39;00m exception_class(message, screen, stacktrace, alert_text)  \u001b[38;5;66;03m# type: ignore[call-arg]  # mypy is not smart enough here\u001b[39;00m\n\u001b[0;32m--> 229\u001b[0m \u001b[38;5;28;01mraise\u001b[39;00m exception_class(message, screen, stacktrace)\n",
      "\u001b[0;31mElementClickInterceptedException\u001b[0m: Message: element click intercepted: Element <button type=\"button\" class=\"cosmos-btn cosmos-btn-primary cosmos-btn-large cosmos-btn-block\" style=\"color: rgb(255, 255, 255); background: rgb(211, 3, 28); font-size: 20px; font-family: &quot;TT Norms Pro&quot;; font-weight: 700; margin-top: 20px;\">...</button> is not clickable at point (390, 272). Other element would receive the click: <div>...</div>\n  (Session info: chrome=130.0.6723.91)\nStacktrace:\n#0 0x55e9b777a51a <unknown>\n#1 0x55e9b72b2b11 <unknown>\n#2 0x55e9b7307d5e <unknown>\n#3 0x55e9b7305c65 <unknown>\n#4 0x55e9b73032b8 <unknown>\n#5 0x55e9b7302135 <unknown>\n#6 0x55e9b72f509b <unknown>\n#7 0x55e9b7324ee2 <unknown>\n#8 0x55e9b72f4a78 <unknown>\n#9 0x55e9b73250ae <unknown>\n#10 0x55e9b7343730 <unknown>\n#11 0x55e9b7324c83 <unknown>\n#12 0x55e9b72f2bee <unknown>\n#13 0x55e9b72f3d1e <unknown>\n#14 0x55e9b7748b9f <unknown>\n#15 0x55e9b774dc62 <unknown>\n#16 0x55e9b7736687 <unknown>\n#17 0x55e9b774e3e1 <unknown>\n#18 0x55e9b771d31e <unknown>\n#19 0x55e9b7769b08 <unknown>\n#20 0x55e9b7769cff <unknown>\n#21 0x55e9b7779088 <unknown>\n#22 0x7fb21973aa94 <unknown>\n#23 0x7fb2197c7c3c <unknown>\n"
     ]
    }
   ],
   "source": [
    "driver.find_element(By.XPATH, \"//button[contains(@class, 'cosmos-btn')]\").click()\n",
    "\n",
    "driver.save_screenshot(\"screenshot.png\")"
   ]
  }
 ],
 "metadata": {
  "kernelspec": {
   "display_name": "venv",
   "language": "python",
   "name": "python3"
  },
  "language_info": {
   "codemirror_mode": {
    "name": "ipython",
    "version": 3
   },
   "file_extension": ".py",
   "mimetype": "text/x-python",
   "name": "python",
   "nbconvert_exporter": "python",
   "pygments_lexer": "ipython3",
   "version": "3.12.7"
  }
 },
 "nbformat": 4,
 "nbformat_minor": 2
}
